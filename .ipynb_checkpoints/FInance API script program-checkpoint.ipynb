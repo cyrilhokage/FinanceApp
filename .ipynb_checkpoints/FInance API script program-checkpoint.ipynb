{
 "cells": [
  {
   "cell_type": "code",
   "execution_count": 1,
   "metadata": {},
   "outputs": [],
   "source": [
    "import requests\n",
    "import json\n",
    "import pandas as pd\n",
    "from pandas.io.json import json_normalize\n",
    "import datetime\n",
    "from lxml import html\n",
    "import os \n",
    "import csv\n",
    "from random import randint"
   ]
  },
  {
   "cell_type": "markdown",
   "metadata": {},
   "source": [
    "On récupère les choix utilisatuer"
   ]
  },
  {
   "cell_type": "code",
   "execution_count": null,
   "metadata": {},
   "outputs": [
    {
     "name": "stdout",
     "output_type": "stream",
     "text": [
      "\n",
      " \t $$$$$$$$$$$$$$\n",
      "\n",
      "      $$$  FINANCE APP     §§§\n",
      " \n",
      " \t $$$$$$$$$$$$$$\n",
      " \n",
      " \n"
     ]
    }
   ],
   "source": [
    "print(\"\\n \\t $$$$$$$$$$$$$$\\n\\n      $$$  FINANCE APP     §§§\\n \\n \\t $$$$$$$$$$$$$$\\n \\n \")"
   ]
  },
  {
   "cell_type": "code",
   "execution_count": null,
   "metadata": {
    "scrolled": false
   },
   "outputs": [],
   "source": [
    "choix = input(\"\\n 1 - SOPRA\\n 2 - L'OREAL\\n 3 - AIR LIQUIDE\\n 4 - BIO-MERIEUX\\n 5 - TECHNIP\\n 6 - ATOS\\n 7 - Quitter\\n \\n  Choisissez un titre: \")"
   ]
  },
  {
   "cell_type": "markdown",
   "metadata": {},
   "source": [
    "On choisi un titre en fonction du choix de l'utilisateur"
   ]
  },
  {
   "cell_type": "code",
   "execution_count": null,
   "metadata": {
    "scrolled": true
   },
   "outputs": [],
   "source": [
    "if choix == '1':\n",
    "    titre = \"SOP.PA\"\n",
    "    url = \"https://www.boursorama.com/cours/1rPSOP/\"\n",
    "    action = \"sopra\"\n",
    "elif choix == '2':\n",
    "    titre = \"OR.PA\"\n",
    "    url = \"https://www.boursorama.com/cours/1rPOR/\"\n",
    "    action = \"loreal\"\n",
    "elif choix == '3':\n",
    "    titre = \"AI.PA\"\n",
    "    url = \"https://www.boursorama.com/cours/1rPAI/\"\n",
    "    action = \"airliquide\"\n",
    "elif choix == '4':\n",
    "    titre = \"BIM.PA\"\n",
    "    url = \"https://www.boursorama.com/cours/1rPBIM/\"\n",
    "    action = \"biomerieux\"\n",
    "elif choix == '5':\n",
    "    titre = \"FTI.PA\"\n",
    "    url = \"https://www.boursorama.com/cours/1rPAI/\"\n",
    "    action = \"technipfmc\"\n",
    "elif choix == '6':\n",
    "    titre = \"ATO.PA\"\n",
    "    url = \"https://www.boursorama.com/cours/1rPATO/\"\n",
    "    action = \"atos\"\n",
    "    \n",
    "elif choix == '7':\n",
    "    exit()\n",
    "else:\n",
    "    print(\"Le titre choisi n'est pas pris en compte. \\n \")\n",
    "    exit()\n",
    "    \n",
    "\n",
    "print(titre)"
   ]
  },
  {
   "cell_type": "markdown",
   "metadata": {},
   "source": [
    "Fonction pour changer le format des dates de AAAA-MM-JJ HH:MM:SS -> AAAA-MM-JJ HH:MM"
   ]
  },
  {
   "cell_type": "code",
   "execution_count": null,
   "metadata": {},
   "outputs": [],
   "source": [
    "def reformat_date(index):\n",
    "    date = datetime.datetime.strptime(index, '%Y-%m-%d %H:%M:%S')\n",
    "    date = datetime.datetime.strftime(date, '%Y-%m-%d %H:%M')\n",
    "    \n",
    "    return date"
   ]
  },
  {
   "cell_type": "markdown",
   "metadata": {},
   "source": [
    "On définit la fonction qui chargera les données pour un indicateur technique"
   ]
  },
  {
   "cell_type": "code",
   "execution_count": null,
   "metadata": {},
   "outputs": [],
   "source": [
    "def analyse(titre ,fonction):\n",
    "    periode = \"20\"\n",
    "    \n",
    "    #Les différentes parties de l'url\n",
    "    part1_url_analyse = \"https://www.alphavantage.co/query?function=\"\n",
    "    part2_url_analyse = \"&symbol=\"\n",
    "    part3_url_analyse = \"&interval=1min&time_period=\"\n",
    "    part4_url_analyse = \"&series_type=close&apikey=2FWTNAS6MFKAV1XH\"\n",
    "    \n",
    "    #On construit l'url\n",
    "    url_analyse = part1_url_analyse + fonction + part2_url_analyse + titre + part3_url_analyse + periode + part4_url_analyse\n",
    "    \n",
    "    #On exécute la requete\n",
    "    response_an = requests.get(url_analyse)\n",
    "    \n",
    "    #On convertit le résultat de la requete en json puis en dataFrame\n",
    "    data_an = json.loads(response_an.content)\n",
    "    analyses = pd.DataFrame.from_dict(data_an[\"Technical Analysis: \"+fonction], orient='index')\n",
    "    \n",
    "    return analyses\n",
    "    "
   ]
  },
  {
   "cell_type": "code",
   "execution_count": null,
   "metadata": {},
   "outputs": [],
   "source": [
    "titre"
   ]
  },
  {
   "cell_type": "markdown",
   "metadata": {},
   "source": [
    "FONTION POUR OBTENIR LES INDICATEURS TECHNIQUES"
   ]
  },
  {
   "cell_type": "code",
   "execution_count": null,
   "metadata": {},
   "outputs": [],
   "source": [
    "def analyse_tech(titre):\n",
    "    #On construit l'url de la requete API avec une concaténation de chaines de caractères\n",
    "    \n",
    "    #Mais avant on prépare les parties de l'url\n",
    "    part1_URL = \"https://www.alphavantage.co/query?function=TIME_SERIES_INTRADAY&symbol=\"\n",
    "    part2_URL = \"&interval=1min&outputsize=full&apikey=2FWTNAS6MFKAV1XH\"\n",
    "    \n",
    "    #Maintenant on construit l'url pour l'action en bourse \n",
    "    url = part1_URL + titre + part2_URL\n",
    "    \n",
    "    #On exécute la requête\n",
    "    response = requests.get(url)\n",
    "    \n",
    "    #On convertit la réponse au format json\n",
    "    data = json.loads(response.content)\n",
    "    \n",
    "    #On convertit en dataFrame\n",
    "    df_data = pd.DataFrame.from_dict(data['Time Series (1min)'], orient='index')\n",
    "    \n",
    "    #On change les index des dataframe au format AAAA-MM-JJ HH:MM\n",
    "    df_data.index = list(map(reformat_date, df_data.index))\n",
    "    \n",
    "    #Liste qui va contenir les fonctions à analyser\n",
    "    fonctions = ['BBANDS', 'RSI', 'MACD', 'STOCH']\n",
    "    \n",
    "    #On calcule tous les indicateurs techniques\n",
    "    for fonction in fonctions:\n",
    "        analyse_tech = analyse(titre, fonction)\n",
    "    \n",
    "        #on joint le resultat au dataframe\n",
    "        df_data = pd.concat([df_data, analyse_tech], axis=1, join_axes=[analyse_tech.index])\n",
    "        \n",
    "    return df_data"
   ]
  },
  {
   "cell_type": "markdown",
   "metadata": {},
   "source": [
    "On appelle la fonction pour l'analyse technique"
   ]
  },
  {
   "cell_type": "code",
   "execution_count": null,
   "metadata": {},
   "outputs": [],
   "source": [
    "try:\n",
    "    df_data = analyse_tech(titre)\n",
    "except:\n",
    "    print(\"\\n La connexion semble lente, veuillez vérifier votre connexion internet :) ! \\n\")\n",
    "    exit()"
   ]
  },
  {
   "cell_type": "markdown",
   "metadata": {},
   "source": [
    "Fontion pour obtenir les indicateurs financiers"
   ]
  },
  {
   "cell_type": "code",
   "execution_count": null,
   "metadata": {},
   "outputs": [],
   "source": [
    "def analyse_fin(url):\n",
    "    \n",
    "    analyse_fin = []\n",
    "    \n",
    "    #recupere le PER\n",
    "    page = requests.get(url)\n",
    "    tree = html.fromstring(page.content)\n",
    "    per = tree.xpath('//*[@id=\"main-content\"]/div/section/div[2]/article/div[2]/div[7]/div[2]/div[1]/div/table/tbody/tr[4]/td[2]/text()')\n",
    "    s= per[0].split('        ')\n",
    "    b = s[2][0:-1]\n",
    "    analyse_fin.append(float(b))\n",
    "    \n",
    "    #Repcupere le dividende par action\n",
    "    div = tree.xpath('//*[@id=\"main-content\"]/div/section/div[2]/article/div[2]/div[7]/div[2]/div[1]/div/table/tbody/tr[1]/td[4]/text()')\n",
    "    div = div[0].split('        ')\n",
    "    div = div[2][0:-1]\n",
    "    analyse_fin.append(float(div))\n",
    "    \n",
    "    #recupere le BNA\n",
    "    bna = tree.xpath('//*[@id=\"main-content\"]/div/section/div[2]/article/div[2]/div[7]/div[2]/div[1]/div/table/tbody/tr[3]/td[3]/text()')\n",
    "    bna = bna[0].split('        ')\n",
    "    bna = bna[2][0:-1]\n",
    "    analyse_fin.append(float(bna))\n",
    "    \n",
    "    #recupere le rendement\n",
    "    rd = tree.xpath('//*[@id=\"main-content\"]/div/section/div[2]/article/div[2]/div[7]/div[2]/div[1]/div/table/tbody/tr[2]/td[3]/text()')\n",
    "    rd = rd[0].split('        ')\n",
    "    rd = rd[2][0:-2]\n",
    "    analyse_fin.append(float(rd))\n",
    "    \n",
    "    return analyse_fin\n",
    "    \n",
    "    \n",
    "    \n",
    "    \n",
    "    \n",
    "    \n",
    "    "
   ]
  },
  {
   "cell_type": "markdown",
   "metadata": {},
   "source": [
    "On charge les indicateurs financiers dans une liste dans cet ordre : -------\n",
    "    1- PER , \n",
    "    2- Dividende , \n",
    "    3- BNA , \n",
    "    4- Rendement , "
   ]
  },
  {
   "cell_type": "code",
   "execution_count": null,
   "metadata": {},
   "outputs": [],
   "source": [
    "finance = analyse_fin(url)"
   ]
  },
  {
   "cell_type": "code",
   "execution_count": null,
   "metadata": {},
   "outputs": [],
   "source": [
    "finance"
   ]
  },
  {
   "cell_type": "markdown",
   "metadata": {},
   "source": [
    "On supprime les NA"
   ]
  },
  {
   "cell_type": "code",
   "execution_count": null,
   "metadata": {},
   "outputs": [],
   "source": [
    "df_data = df_data.dropna()"
   ]
  },
  {
   "cell_type": "code",
   "execution_count": null,
   "metadata": {},
   "outputs": [],
   "source": [
    "df_data"
   ]
  },
  {
   "cell_type": "markdown",
   "metadata": {},
   "source": [
    "CALCUL DE LA NOTE DE L'ANALYSE TECHNIQUE ( sur 10 )"
   ]
  },
  {
   "cell_type": "markdown",
   "metadata": {},
   "source": [
    "Fonction pour la note du RSI"
   ]
  },
  {
   "cell_type": "code",
   "execution_count": null,
   "metadata": {},
   "outputs": [],
   "source": [
    "def calcul_rsi(rsi):\n",
    "    if( rsi < 30 ):\n",
    "        note_rsi = 10 \n",
    "    elif( 30 <= rsi <= 70 ):\n",
    "        note_rsi = 5\n",
    "    else:\n",
    "        note_rsi = 0\n",
    "        \n",
    "    return note_rsi"
   ]
  },
  {
   "cell_type": "markdown",
   "metadata": {},
   "source": [
    "Fonction pour la note du macd"
   ]
  },
  {
   "cell_type": "code",
   "execution_count": null,
   "metadata": {},
   "outputs": [],
   "source": [
    "def calcul_macd(macd):\n",
    "    \n",
    "    if (macd > 0):\n",
    "        note_macd = 10\n",
    "    elif(macd < 0):\n",
    "        note_macd = 0\n",
    "    else:\n",
    "        note_macd = 5\n",
    "        \n",
    "    return note_macd"
   ]
  },
  {
   "cell_type": "markdown",
   "metadata": {},
   "source": [
    "Fonction pour la note du stockastique"
   ]
  },
  {
   "cell_type": "code",
   "execution_count": null,
   "metadata": {},
   "outputs": [],
   "source": [
    "def calcul_stoch(stoch):\n",
    "    if(stoch < 20 ):\n",
    "        note_st = 10\n",
    "    elif(20 <= stoch <80 ):\n",
    "        note_st = 5\n",
    "    else:\n",
    "        note_st = 0\n",
    "        \n",
    "    return note_st"
   ]
  },
  {
   "cell_type": "markdown",
   "metadata": {},
   "source": [
    "Fonction qui calcule la note technique"
   ]
  },
  {
   "cell_type": "code",
   "execution_count": null,
   "metadata": {},
   "outputs": [],
   "source": [
    "def calcultech(rsi, macd, sto):\n",
    "    note_tech = 0.35*5 + 0.25*calcul_rsi(float(rsi)) + 0.25*calcul_macd(float(macd)) + 0.15 *calcul_stoch(float(sto))\n",
    "    \n",
    "    return note_tech"
   ]
  },
  {
   "cell_type": "markdown",
   "metadata": {},
   "source": [
    "On calcule la note technique"
   ]
  },
  {
   "cell_type": "code",
   "execution_count": null,
   "metadata": {},
   "outputs": [],
   "source": [
    "note_tech = calcultech(df_data['RSI'][-1], df_data['MACD'][-1], df_data['SlowK'][-1])"
   ]
  },
  {
   "cell_type": "code",
   "execution_count": null,
   "metadata": {},
   "outputs": [],
   "source": [
    "note_tech"
   ]
  },
  {
   "cell_type": "markdown",
   "metadata": {},
   "source": [
    "Fonction pour evaluer l'analyse financiere"
   ]
  },
  {
   "cell_type": "code",
   "execution_count": null,
   "metadata": {},
   "outputs": [],
   "source": [
    "def note_fin(liste):\n",
    "    if liste[0] <= 10:\n",
    "        res=0\n",
    "    elif liste[0] >= 17:\n",
    "        res=5\n",
    "    else:\n",
    "        res=10\n",
    "    if liste[1] >= 9:\n",
    "        res+=10\n",
    "    elif liste[1] >= 7:\n",
    "        res+=9\n",
    "    elif liste[1] >= 5:\n",
    "        res+=8\n",
    "    elif liste[1] >= 3:\n",
    "        res+=7\n",
    "    elif liste[1] >= 2:\n",
    "        res+=6\n",
    "    elif liste[1] >= 1:\n",
    "        res+=5\n",
    "    else:\n",
    "        res+=3\n",
    "    if liste[2] >= 5:\n",
    "        res+=10\n",
    "    elif liste[2] >= 3:\n",
    "        res+=8\n",
    "    elif liste[2] >= 2:\n",
    "        res+=7\n",
    "    elif liste[2] >= 1:\n",
    "        res+=5\n",
    "    else:\n",
    "        res+=3\n",
    "    if liste[3] >= 4:\n",
    "        res+=10\n",
    "    elif liste[3] >= 2:\n",
    "        res+=5\n",
    "    else:\n",
    "        res+=0\n",
    "    return float(res/4)"
   ]
  },
  {
   "cell_type": "markdown",
   "metadata": {},
   "source": [
    "On prends la note financiere"
   ]
  },
  {
   "cell_type": "code",
   "execution_count": null,
   "metadata": {},
   "outputs": [],
   "source": [
    "note_f = note_fin(finance) "
   ]
  },
  {
   "cell_type": "code",
   "execution_count": null,
   "metadata": {},
   "outputs": [],
   "source": [
    "note_f "
   ]
  },
  {
   "cell_type": "markdown",
   "metadata": {},
   "source": [
    "Fonction qui gère l'information en temps réel"
   ]
  },
  {
   "cell_type": "code",
   "execution_count": null,
   "metadata": {},
   "outputs": [],
   "source": [
    "def getInfo(action):\n",
    "    cpt=0\n",
    "    filename=os.environ[\"PUBLIC\"]+'\\\\'+action+'Info.csv'\n",
    "    with open(filename, 'r') as textfile:\n",
    "        for row in reversed(list(csv.DictReader(textfile, fieldnames = (\"date\", \"info\", \"pertinence\", \"note\"), delimiter = ';'))):\n",
    "            date = row['date']\n",
    "            if date == \"date\":\n",
    "                break\n",
    "            info = row['info']\n",
    "            pertinence = row['pertinence']\n",
    "            note = row['note']\n",
    "            datetime.datetime.strptime(row['date'], \"%Y-%m-%d %H:%M\")\n",
    "            limit = datetime.datetime.now()\n",
    "            limit = limit - datetime.timedelta(hours=2)\n",
    "            if datetime.datetime.strptime(row['date'], \"%Y-%m-%d %H:%M\") < limit:\n",
    "                if cpt==0:\n",
    "                    tab=[date,info,pertinence,note]\n",
    "                    cpt=1\n",
    "                else:\n",
    "                    tab=tab,[date,info,pertinence,note]\n",
    "    cpt = 0\n",
    "    res=[]\n",
    "    res.append(0)\n",
    "    res.append('')\n",
    "    for i in tab:\n",
    "        res[0]+=5 + float(i[3]) * float(i[2])\n",
    "        res[1]+=i[1]+'\\n'\n",
    "        cpt+=1\n",
    "    res[0]=res[0]/cpt\n",
    "    \n",
    "    return res"
   ]
  },
  {
   "cell_type": "code",
   "execution_count": null,
   "metadata": {},
   "outputs": [],
   "source": [
    "resultat_info = getInfo(action)"
   ]
  },
  {
   "cell_type": "code",
   "execution_count": null,
   "metadata": {
    "scrolled": true
   },
   "outputs": [],
   "source": [
    "note_info = resultat_info[0]\n",
    "note_info"
   ]
  },
  {
   "cell_type": "markdown",
   "metadata": {},
   "source": [
    "On genere le hazard"
   ]
  },
  {
   "cell_type": "code",
   "execution_count": null,
   "metadata": {},
   "outputs": [],
   "source": [
    "hazard = randint(1,8)\n",
    "hazard"
   ]
  },
  {
   "cell_type": "markdown",
   "metadata": {},
   "source": [
    "on calcule la note finale"
   ]
  },
  {
   "cell_type": "code",
   "execution_count": null,
   "metadata": {},
   "outputs": [],
   "source": [
    "note_finale = 0.23 * note_f + 0.20 * note_tech + 0.5 * note_info + 0.07 * hazard\n",
    "note_finale"
   ]
  },
  {
   "cell_type": "markdown",
   "metadata": {},
   "source": [
    "On emet une ecommandation en fonction de la note finale"
   ]
  },
  {
   "cell_type": "code",
   "execution_count": null,
   "metadata": {},
   "outputs": [],
   "source": [
    "if(note_finale < 3.33):\n",
    "    recom = \"VENDEZ !!!!\"\n",
    "elif( 3.33 <= note_finale < 7):\n",
    "    recom = \"NE FAITES RIEN! ATTENDEZ !!!\"\n",
    "else:\n",
    "    recom = \"ACHETEZ !!! \""
   ]
  },
  {
   "cell_type": "markdown",
   "metadata": {},
   "source": [
    "On affiche la recommandation à l'utilisateur et la raison"
   ]
  },
  {
   "cell_type": "code",
   "execution_count": null,
   "metadata": {},
   "outputs": [],
   "source": [
    "print(\"\\n \\n\")\n",
    "print(\"Notre conseil :\" + recom)\n",
    "print(\"\\n \\n RAISON: \"+ resultat_info[1])"
   ]
  }
 ],
 "metadata": {
  "kernelspec": {
   "display_name": "Python 3",
   "language": "python",
   "name": "python3"
  },
  "language_info": {
   "codemirror_mode": {
    "name": "ipython",
    "version": 3
   },
   "file_extension": ".py",
   "mimetype": "text/x-python",
   "name": "python",
   "nbconvert_exporter": "python",
   "pygments_lexer": "ipython3",
   "version": "3.6.4"
  }
 },
 "nbformat": 4,
 "nbformat_minor": 2
}
